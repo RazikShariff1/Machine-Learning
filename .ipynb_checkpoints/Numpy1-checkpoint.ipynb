{
 "cells": [
  {
   "cell_type": "markdown",
   "id": "2bd44924-a64d-4c88-bcd6-e7b336a5088d",
   "metadata": {},
   "source": [
    "## Indexing & Slicing"
   ]
  },
  {
   "cell_type": "code",
   "execution_count": 1,
   "id": "88e7375e-b2a6-482f-8a72-eac332f3c90b",
   "metadata": {},
   "outputs": [],
   "source": [
    "import numpy as np"
   ]
  },
  {
   "cell_type": "code",
   "execution_count": 3,
   "id": "42917be2-ec8f-4cd5-a23f-f70265c69260",
   "metadata": {},
   "outputs": [
    {
     "name": "stdout",
     "output_type": "stream",
     "text": [
      "30\n"
     ]
    }
   ],
   "source": [
    "arr = np.array([10, 20, 30, 40, 50])\n",
    "print(arr[2]) "
   ]
  },
  {
   "cell_type": "code",
   "execution_count": 4,
   "id": "e0b56f3b-682c-4013-9b4a-a5d143766218",
   "metadata": {},
   "outputs": [
    {
     "name": "stdout",
     "output_type": "stream",
     "text": [
      "Last element: 50\n"
     ]
    }
   ],
   "source": [
    "print(\"Last element:\", arr[-1])  "
   ]
  },
  {
   "cell_type": "code",
   "execution_count": 5,
   "id": "9f7b586d-6cba-446d-8c16-98a4e5cc0014",
   "metadata": {},
   "outputs": [
    {
     "name": "stdout",
     "output_type": "stream",
     "text": [
      "Element at row 1, column 2: 60\n"
     ]
    }
   ],
   "source": [
    "arr2D = np.array([[10, 20, 30], [40, 50, 60]])\n",
    "print(\"Element at row 1, column 2:\", arr2D[1, 2])  "
   ]
  },
  {
   "cell_type": "code",
   "execution_count": 6,
   "id": "f9abd4b6-93ad-4094-b30d-12af528f845b",
   "metadata": {},
   "outputs": [
    {
     "name": "stdout",
     "output_type": "stream",
     "text": [
      "Slice from index 1 to 4: [20 30 40]\n",
      "Every second element: [10 30 50]\n",
      "Reversed array: [60 50 40 30 20 10]\n"
     ]
    }
   ],
   "source": [
    "arr = np.array([10, 20, 30, 40, 50, 60])\n",
    "\n",
    "print(\"Slice from index 1 to 4:\", arr[1:4])  # [20, 30, 40]\n",
    "print(\"Every second element:\", arr[::2])  # [10, 30, 50]\n",
    "print(\"Reversed array:\", arr[::-1])  # [60, 50, 40, 30, 20, 10]\n"
   ]
  },
  {
   "cell_type": "code",
   "execution_count": 8,
   "id": "35a93964-42fd-4477-beff-88dc7374a968",
   "metadata": {},
   "outputs": [
    {
     "name": "stdout",
     "output_type": "stream",
     "text": [
      "Subarray:\n",
      " [[10 20]\n",
      " [40 50]]\n"
     ]
    }
   ],
   "source": [
    "arr2D = np.array([[10, 20, 30], \n",
    "                  [40, 50, 60], \n",
    "                  [70, 80, 90]])\n",
    "# Extract first two rows and first two columns\n",
    "print(\"Subarray:\\n\", arr2D[:2, :2])"
   ]
  },
  {
   "cell_type": "markdown",
   "id": "2d25bec7-1c6f-4ff8-ae49-3a9c41daee63",
   "metadata": {},
   "source": [
    "### **Advanced Indexing in NumPy Fancy & Boolean Indexing**"
   ]
  },
  {
   "cell_type": "code",
   "execution_count": 9,
   "id": "1066d687-a0fa-4c66-8605-8c529342979b",
   "metadata": {},
   "outputs": [
    {
     "name": "stdout",
     "output_type": "stream",
     "text": [
      "Selected Elements: [20 40 50]\n"
     ]
    }
   ],
   "source": [
    "arr = np.array([10, 20, 30, 40, 50])\n",
    "selected = arr[[1, 3, 4]]\n",
    "print(\"Selected Elements:\", selected)"
   ]
  },
  {
   "cell_type": "code",
   "execution_count": 10,
   "id": "7d604ced-fdc9-474c-803d-9f244a6f9bc2",
   "metadata": {},
   "outputs": [
    {
     "name": "stdout",
     "output_type": "stream",
     "text": [
      "\n",
      "Selected Rows:\n",
      " [[10 20 30]\n",
      " [70 80 90]]\n",
      "\n",
      "Selected Elements: [30 40]\n"
     ]
    }
   ],
   "source": [
    "arr2D = np.array([[10, 20, 30], \n",
    "                  [40, 50, 60], \n",
    "                  [70, 80, 90]])\n",
    "# Select rows at indices 0 & 2\n",
    "selected_rows = arr2D[[0, 2]]\n",
    "print(\"\\nSelected Rows:\\n\", selected_rows)\n",
    "# Select specific elements using row & column indices\n",
    "selected_elements = arr2D[[0, 1], [2, 0]]  # (0,2) -> 30 and (1,0) -> 40\n",
    "print(\"\\nSelected Elements:\", selected_elements)  # [30, 40]\n"
   ]
  },
  {
   "cell_type": "code",
   "execution_count": 14,
   "id": "d114fc16-1fd1-44f4-9366-0a972b580185",
   "metadata": {},
   "outputs": [
    {
     "name": "stdout",
     "output_type": "stream",
     "text": [
      "\n",
      "Elements > 20: [25 35 45 55]\n",
      "[20] [ 5 15 25 20]\n"
     ]
    }
   ],
   "source": [
    "arr = np.array([5, 15, 25, 35, 45, 55,20])\n",
    "\n",
    "# Get elements greater than 20\n",
    "filtered = arr[arr > 20]\n",
    "print(\"\\nElements > 20:\", filtered)  # [25, 35, 45, 55]\n",
    "print(arr[arr % 2 == 0],arr[~((arr > 30) & (arr < 70))])"
   ]
  },
  {
   "cell_type": "code",
   "execution_count": 15,
   "id": "c7692442-c759-4175-8c26-2efe802cff3c",
   "metadata": {},
   "outputs": [
    {
     "name": "stdout",
     "output_type": "stream",
     "text": [
      "[ 5 15 25 20]\n"
     ]
    }
   ],
   "source": [
    "arm=np.array(arr[~((arr > 30) & (arr < 70))])\n",
    "print(arm)"
   ]
  },
  {
   "cell_type": "markdown",
   "id": "82c57c50-ce2c-41af-aa38-92338de08656",
   "metadata": {},
   "source": [
    "$Vectorization$ *allows you to apply operations to entire arrays at once, rather than looping through elements manually.*"
   ]
  },
  {
   "cell_type": "code",
   "execution_count": 16,
   "id": "3ee1f3a6-bde1-4407-b4d2-eaca0f839f10",
   "metadata": {},
   "outputs": [
    {
     "name": "stdout",
     "output_type": "stream",
     "text": [
      "Vectorized Multiplication: [ 2  4  6  8 10]\n",
      "Loop-Based Multiplication: [2, 4, 6, 8, 10]\n"
     ]
    }
   ],
   "source": [
    "arr = np.array([1, 2, 3, 4, 5])\n",
    "# Vectorized operation (FAST)\n",
    "result = arr * 2  \n",
    "print(\"Vectorized Multiplication:\", result)  # [2, 4, 6, 8, 10]\n",
    "\n",
    "# Loop-based approach (SLOW)\n",
    "result_loop = [x * 2 for x in arr]\n",
    "print(\"Loop-Based Multiplication:\", result_loop)  # [2, 4, 6, 8, 10]"
   ]
  },
  {
   "cell_type": "markdown",
   "id": "284632d1-8b7d-451a-a34a-af0c25ecc1d8",
   "metadata": {},
   "source": [
    "$Arithmetic\\;operations$\n",
    "- scaler\n",
    "- ndarray"
   ]
  },
  {
   "cell_type": "code",
   "execution_count": 18,
   "id": "543c705e-6b90-45f9-9492-e23c4b1c62f6",
   "metadata": {},
   "outputs": [
    {
     "name": "stdout",
     "output_type": "stream",
     "text": [
      "Array + Scalar:\n",
      " [[15 25 35]\n",
      " [45 55 65]]\n"
     ]
    }
   ],
   "source": [
    "#scaler\n",
    "arr = np.array([[10, 20, 30], \n",
    "                [40, 50, 60]])\n",
    "\n",
    "scalar = 5\n",
    "print(\"Array + Scalar:\\n\", arr + scalar)"
   ]
  },
  {
   "cell_type": "code",
   "execution_count": 19,
   "id": "7e095dde-3553-471e-8a5c-beea2ff85e6a",
   "metadata": {},
   "outputs": [
    {
     "name": "stdout",
     "output_type": "stream",
     "text": [
      "[[ 50 100 150]\n",
      " [200 250 300]]\n",
      "[[ 5 15 25]\n",
      " [35 45 55]]\n",
      "[[ 5 10 15]\n",
      " [20 25 30]]\n",
      "[[1 2 0]\n",
      " [1 2 0]]\n"
     ]
    }
   ],
   "source": [
    "print(arr*5)\n",
    "print(arr-5)\n",
    "print(arr//2)\n",
    "print(arr%3)"
   ]
  },
  {
   "cell_type": "code",
   "execution_count": 20,
   "id": "1ca18e0f-e9f0-4c1b-bcc4-15cf1cf5a89e",
   "metadata": {},
   "outputs": [
    {
     "name": "stdout",
     "output_type": "stream",
     "text": [
      "Addition: [11 22 33]\n",
      "Subtraction: [ 9 18 27]\n",
      "Multiplication: [10 40 90]\n",
      "Division: [10. 10. 10.]\n"
     ]
    }
   ],
   "source": [
    "# array\n",
    "arr1 = np.array([10, 20, 30])\n",
    "arr2 = np.array([1, 2, 3])\n",
    "\n",
    "print(\"Addition:\", arr1 + arr2)  # [11, 22, 33]\n",
    "print(\"Subtraction:\", arr1 - arr2)  # [9, 18, 27]\n",
    "print(\"Multiplication:\", arr1 * arr2)  # [10, 40, 90]\n",
    "print(\"Division:\", arr1 / arr2)  # [10. 10. 10.]\n"
   ]
  },
  {
   "cell_type": "markdown",
   "id": "5259b2ec-c334-41d6-807f-2ffeac6ae67f",
   "metadata": {},
   "source": [
    "**$NumPy \\;is \\;~100x \\;faster \\;than \\;Python \\;loops \\;for \\;large \\;datasets!$**"
   ]
  },
  {
   "cell_type": "code",
   "execution_count": 21,
   "id": "c9bd5d51-c900-4e13-8aac-07413f9a3fb6",
   "metadata": {
    "scrolled": true
   },
   "outputs": [
    {
     "name": "stdout",
     "output_type": "stream",
     "text": [
      "Loop-based sum: 500280.27949240647 Time: 0.20343947410583496\n",
      "Vectorized sum: 500280.27949239145 Time: 0.0\n"
     ]
    }
   ],
   "source": [
    "import time\n",
    "\n",
    "size = 10**6  # 1 million elements\n",
    "arr = np.random.rand(size)\n",
    "\n",
    "# Loop-based sum\n",
    "start = time.time()\n",
    "sum_loop = sum(arr)\n",
    "print(\"Loop-based sum:\", sum_loop, \"Time:\", time.time() - start)\n",
    "\n",
    "# Vectorized sum\n",
    "start = time.time()\n",
    "sum_vectorized = np.sum(arr)\n",
    "print(\"Vectorized sum:\", sum_vectorized, \"Time:\", time.time() - start)"
   ]
  },
  {
   "cell_type": "markdown",
   "id": "f38226d4-d07d-4efe-bd8e-032958f88576",
   "metadata": {},
   "source": [
    "## built-in functions"
   ]
  },
  {
   "cell_type": "code",
   "execution_count": 29,
   "id": "f6fd5d45-6412-4d1b-8133-ce20c0bf67cf",
   "metadata": {
    "jupyter": {
     "source_hidden": true
    }
   },
   "outputs": [
    {
     "name": "stdout",
     "output_type": "stream",
     "text": [
      "Square Root: [1. 2. 3. 4. 5.]\n",
      "Exponential: [2.71828183e+00 5.45981500e+01 8.10308393e+03 8.88611052e+06\n",
      " 7.20048993e+10]\n",
      "Logarithm: [0.         1.38629436 2.19722458 2.77258872 3.21887582]\n",
      "Sine: [ 0.84147098 -0.7568025   0.41211849 -0.28790332 -0.13235175]\n",
      "Cosine: [ 0.54030231 -0.65364362 -0.91113026 -0.95765948  0.99120281]\n",
      "Tangent: [ 1.55740772  1.15782128 -0.45231566  0.30063224 -0.13352641]\n"
     ]
    }
   ],
   "source": [
    "# Math Functions\n",
    "\n",
    "arr = np.array([1, 4, 9, 16, 25])\n",
    "print(\"Square Root:\", np.sqrt(arr))  # [1. 2. 3. 4. 5.]\n",
    "print(\"Exponential:\", np.exp(arr))  # e^x for each element\n",
    "print(\"Logarithm:\", np.log(arr))  # Natural log of elements\n",
    "print(\"Sine:\", np.sin(arr))  # Sine values\n",
    "print(\"Cosine:\", np.cos(arr))  # Cosine values\n",
    "print(\"Tangent:\", np.tan(arr))  # Tangent values\n"
   ]
  },
  {
   "cell_type": "code",
   "execution_count": 3,
   "id": "e874591e-9b59-4e76-858c-0eb2d9c5da8d",
   "metadata": {},
   "outputs": [
    {
     "name": "stdout",
     "output_type": "stream",
     "text": [
      "Sum: 45\n",
      "Mean: 5.0\n",
      "Max: 9\n",
      "Min: 1\n",
      "Standard Deviation: 2.581988897471611\n",
      "Variance: 6.666666666666667\n"
     ]
    }
   ],
   "source": [
    " # Aggregation Functions\n",
    "\n",
    "arr = np.array([[1, 2, 3], \n",
    "                [4, 5, 6], \n",
    "                [7, 8, 9]])\n",
    "print(\"Sum:\", np.sum(arr))  # 45\n",
    "print(\"Mean:\", np.mean(arr))  # 5.0\n",
    "print(\"Max:\", np.max(arr))  # 9\n",
    "print(\"Min:\", np.min(arr))  # 1\n",
    "print(\"Standard Deviation:\", np.std(arr))  # 2.58\n",
    "print(\"Variance:\", np.var(arr))  # 6.67\n"
   ]
  },
  {
   "cell_type": "code",
   "execution_count": 31,
   "id": "7f97fb8c-9836-4ce7-8ca9-bc311097a032",
   "metadata": {},
   "outputs": [
    {
     "name": "stdout",
     "output_type": "stream",
     "text": [
      "Row-wise Sum: [ 6 15 24]\n",
      "Column-wise Mean: [4. 5. 6.]\n"
     ]
    }
   ],
   "source": [
    "print(\"Row-wise Sum:\", np.sum(arr, axis=1))  # [ 6 15 24] (Sum of each row)\n",
    "print(\"Column-wise Mean:\", np.mean(arr, axis=0))  # [4. 5. 6.] (Mean of each column)"
   ]
  },
  {
   "cell_type": "markdown",
   "id": "fc54bf9a-3b91-4791-9b83-30a4c917d9cb",
   "metadata": {},
   "source": [
    "### **📌 Complete List of NumPy Operations** 🔥  \n",
    "To master NumPy, it’s important to know **all the key operations** that can be performed. Below is a structured list covering everything from **basic operations** to **advanced mathematical functions**.  \n",
    "\n",
    "---\n",
    "\n",
    "## **🔹 1. Basic Arithmetic Operations (Element-wise)**\n",
    "| Operation | Description | Example |\n",
    "|-----------|------------|---------|\n",
    "| `+` | Addition | `A + B` |\n",
    "| `-` | Subtraction | `A - B` |\n",
    "| `*` | Multiplication | `A * B` |\n",
    "| `/` | Division | `A / B` |\n",
    "| `//` | Floor Division | `A // B` |\n",
    "| `%` | Modulus (Remainder) | `A % B` |\n",
    "| `**` | Power | `A ** B` |\n",
    "| `np.add(A, B)` | Addition (Function) | `np.add(A, B)` |\n",
    "| `np.subtract(A, B)` | Subtraction (Function) | `np.subtract(A, B)` |\n",
    "| `np.multiply(A, B)` | Multiplication (Function) | `np.multiply(A, B)` |\n",
    "| `np.divide(A, B)` | Division (Function) | `np.divide(A, B)` |\n",
    "\n",
    "---\n",
    "\n",
    "## **🔹 2. Advanced Mathematical Operations**\n",
    "| Operation | Description | Example |\n",
    "|-----------|------------|---------|\n",
    "| `np.sqrt(A)` | Square Root | `np.sqrt(A)` |\n",
    "| `np.exp(A)` | Exponential (e^x) | `np.exp(A)` |\n",
    "| `np.log(A)` | Natural Logarithm | `np.log(A)` |\n",
    "| `np.log10(A)` | Base-10 Logarithm | `np.log10(A)` |\n",
    "| `np.power(A, B)` | Power (A^B) | `np.power(A, B)` |\n",
    "| `np.abs(A)` | Absolute Value | `np.abs(A)` |\n",
    "| `np.round(A, n)` | Rounding | `np.round(A, 2)` |\n",
    "| `np.ceil(A)` | Round Up | `np.ceil(A)` |\n",
    "| `np.floor(A)` | Round Down | `np.floor(A)` |\n",
    "\n",
    "---\n",
    "\n",
    "## **🔹 3. Trigonometric & Hyperbolic Functions**\n",
    "| Operation | Description | Example |\n",
    "|-----------|------------|---------|\n",
    "| `np.sin(A)` | Sine | `np.sin(A)` |\n",
    "| `np.cos(A)` | Cosine | `np.cos(A)` |\n",
    "| `np.tan(A)` | Tangent | `np.tan(A)` |\n",
    "| `np.arcsin(A)` | Inverse Sine | `np.arcsin(A)` |\n",
    "| `np.arccos(A)` | Inverse Cosine | `np.arccos(A)` |\n",
    "| `np.arctan(A)` | Inverse Tangent | `np.arctan(A)` |\n",
    "| `np.sinh(A)` | Hyperbolic Sine | `np.sinh(A)` |\n",
    "| `np.cosh(A)` | Hyperbolic Cosine | `np.cosh(A)` |\n",
    "| `np.tanh(A)` | Hyperbolic Tangent | `np.tanh(A)` |\n",
    "\n",
    "---\n",
    "\n",
    "## **🔹 4. Aggregation Functions**\n",
    "| Operation | Description | Example |\n",
    "|-----------|------------|---------|\n",
    "| `np.sum(A)` | Sum of all elements | `np.sum(A)` |\n",
    "| `np.prod(A)` | Product of all elements | `np.prod(A)` |\n",
    "| `np.mean(A)` | Mean (Average) | `np.mean(A)` |\n",
    "| `np.median(A)` | Median | `np.median(A)` |\n",
    "| `np.var(A)` | Variance | `np.var(A)` |\n",
    "| `np.std(A)` | Standard Deviation | `np.std(A)` |\n",
    "| `np.min(A)` | Minimum Value | `np.min(A)` |\n",
    "| `np.max(A)` | Maximum Value | `np.max(A)` |\n",
    "| `np.percentile(A, p)` | Percentile | `np.percentile(A, 75)` |\n",
    "\n",
    "---\n",
    "\n",
    "## **🔹 5. Matrix & Linear Algebra Operations**\n",
    "| Operation | Description | Example |\n",
    "|-----------|------------|---------|\n",
    "| `np.dot(A, B)` | Dot Product | `np.dot(A, B)` |\n",
    "| `A @ B` | Matrix Multiplication | `A @ B` |\n",
    "| `np.matmul(A, B)` | Matrix Multiplication | `np.matmul(A, B)` |\n",
    "| `np.linalg.inv(A)` | Inverse of a Matrix | `np.linalg.inv(A)` |\n",
    "| `np.linalg.det(A)` | Determinant of a Matrix | `np.linalg.det(A)` |\n",
    "| `np.linalg.eig(A)` | Eigenvalues & Eigenvectors | `np.linalg.eig(A)` |\n",
    "| `np.transpose(A)` | Transpose | `A.T` |\n",
    "| `np.linalg.solve(A, B)` | Solves Ax = B | `np.linalg.solve(A, B)` |\n",
    "\n",
    "---\n",
    "\n",
    "## **🔹 6. Logical & Comparison Operations**\n",
    "| Operation | Description | Example |\n",
    "|-----------|------------|---------|\n",
    "| `A > B` | Greater Than | `A > B` |\n",
    "| `A < B` | Less Than | `A < B` |\n",
    "| `A == B` | Equal To | `A == B` |\n",
    "| `A != B` | Not Equal To | `A != B` |\n",
    "| `np.logical_and(A, B)` | Logical AND | `np.logical_and(A, B)` |\n",
    "| `np.logical_or(A, B)` | Logical OR | `np.logical_or(A, B)` |\n",
    "| `np.logical_not(A)` | Logical NOT | `np.logical_not(A)` |\n",
    "\n",
    "---\n",
    "\n",
    "## **🔹 7. Array Manipulation Operations**\n",
    "| Operation | Description | Example |\n",
    "|-----------|------------|---------|\n",
    "| `A.reshape(m, n)` | Reshape an array | `A.reshape(2,3)` |\n",
    "| `A.flatten()` | Flatten a multi-dimensional array | `A.flatten()` |\n",
    "| `A.ravel()` | Flatten an array (Memory efficient) | `A.ravel()` |\n",
    "| `A.T` | Transpose of an array | `A.T` |\n",
    "| `np.hstack((A, B))` | Horizontal Stacking | `np.hstack((A, B))` |\n",
    "| `np.vstack((A, B))` | Vertical Stacking | `np.vstack((A, B))` |\n",
    "| `np.concatenate((A, B), axis=0)` | Concatenate Arrays | `np.concatenate((A, B), axis=0)` |\n",
    "| `np.split(A, n, axis=0)` | Split an Array | `np.split(A, 3, axis=0)` |\n",
    "\n",
    "---\n",
    "\n",
    "## **🔹 8. Random Number Generation (`np.random`)**\n",
    "| Operation | Description | Example |\n",
    "|-----------|------------|---------|\n",
    "| `np.random.rand(n)` | Random numbers (Uniform) | `np.random.rand(5)` |\n",
    "| `np.random.randn(n)` | Random numbers (Normal) | `np.random.randn(5)` |\n",
    "| `np.random.randint(low, high, size)` | Random Integers | `np.random.randint(1, 10, (2,3))` |\n",
    "| `np.random.choice(A, size)` | Random Selection from an Array | `np.random.choice(A, 3)` |\n",
    "| `np.random.shuffle(A)` | Shuffle an Array | `np.random.shuffle(A)` |\n",
    "| `np.random.seed(n)` | Set Seed for Reproducibility | `np.random.seed(42)` |\n",
    "\n",
    "---\n",
    "\n",
    "## **📌 Summary**\n",
    "This list covers **ALL** major NumPy operations **needed for ML & Data Science**. 🚀  "
   ]
  },
  {
   "cell_type": "code",
   "execution_count": 6,
   "id": "68a2ec3a-0459-450d-a610-5ea77181269c",
   "metadata": {},
   "outputs": [],
   "source": [
    "arr = np.array([[1, 2, 3], \n",
    "                [4, 5, 6], \n",
    "                [7, 8, 9]])"
   ]
  },
  {
   "cell_type": "code",
   "execution_count": 12,
   "id": "f36ab2f9-9ef2-4378-a045-f5d10584b7ac",
   "metadata": {},
   "outputs": [
    {
     "name": "stdout",
     "output_type": "stream",
     "text": [
      "[10 14 18]\n"
     ]
    }
   ],
   "source": [
    "print(np.max(arr,axis=0)+np.max(arr,axis=1))"
   ]
  },
  {
   "cell_type": "code",
   "execution_count": 27,
   "id": "edcb50c2-ee74-4fc5-8095-d3ee384b2da2",
   "metadata": {},
   "outputs": [
    {
     "name": "stdout",
     "output_type": "stream",
     "text": [
      "[[1 2 3 4 5 6 7 8 9]]\n",
      "(1, 9)\n"
     ]
    }
   ],
   "source": [
    "arr=arr.reshape(1,9)\n",
    "print(arr)\n",
    "print(arr.shape)\n",
    "arr=arr.reshape(-1)"
   ]
  },
  {
   "cell_type": "code",
   "execution_count": 28,
   "id": "a61a85dd-5f03-4bf4-b4a4-9759fc3208a5",
   "metadata": {},
   "outputs": [
    {
     "data": {
      "text/plain": [
       "array([1, 2, 3, 4, 5, 6, 7, 8, 9])"
      ]
     },
     "execution_count": 28,
     "metadata": {},
     "output_type": "execute_result"
    }
   ],
   "source": [
    "arr"
   ]
  },
  {
   "cell_type": "markdown",
   "id": "a167894c-ac39-496c-b92c-f71f53b2338c",
   "metadata": {},
   "source": [
    "## Broadcasting\n",
    "**NumPy automatically expands arrays of different shapes to match each other when performing element-wise operations.**"
   ]
  },
  {
   "cell_type": "code",
   "execution_count": 29,
   "id": "6f300aba-305c-4e38-bd52-d2e9cf423023",
   "metadata": {},
   "outputs": [
    {
     "name": "stdout",
     "output_type": "stream",
     "text": [
      "[[11 12 13]\n",
      " [14 15 16]]\n"
     ]
    }
   ],
   "source": [
    "A = np.array([[1, 2, 3], [4, 5, 6]])  # Shape (2,3)\n",
    "B = 10  # Scalar\n",
    "\n",
    "print(A + B)"
   ]
  },
  {
   "cell_type": "code",
   "execution_count": 38,
   "id": "501d2693-62d3-4f40-b481-8079296ed3fe",
   "metadata": {},
   "outputs": [
    {
     "name": "stdout",
     "output_type": "stream",
     "text": [
      "[[[1. 1. 1. 1.]]\n",
      "\n",
      " [[1. 1. 1. 1.]]\n",
      "\n",
      " [[1. 1. 1. 1.]]]\n"
     ]
    }
   ],
   "source": [
    "A = np.ones((3,1,4))  # Shape (3,1,4)\n",
    "B = np.ones((1, 2, 4))  # Shape (1,2,4)\n",
    "\n",
    "print(A )  # Resulting shape is (3,2,4)\n"
   ]
  },
  {
   "cell_type": "code",
   "execution_count": 53,
   "id": "37522a35-69aa-4b42-8696-717547ed6cec",
   "metadata": {},
   "outputs": [
    {
     "name": "stdout",
     "output_type": "stream",
     "text": [
      "[[101 202 303 404]\n",
      " [105 206 307 408]\n",
      " [109 210 311 412]]\n",
      "[[4. 4. 4. 4.]\n",
      " [4. 4. 4. 4.]\n",
      " [4. 4. 4. 4.]\n",
      " [4. 4. 4. 4.]]\n",
      "Error: operands could not be broadcast together with shapes (4,1) (2,3) \n"
     ]
    }
   ],
   "source": [
    "#exesice problem\n",
    "\n",
    "arr=np.array([[1,2,3,4],\n",
    "              [5,6,7,8],\n",
    "              [9,10,11,12]])\n",
    "print(arr+[100,200,300,400])\n",
    "arr=np.ones((4,1))\n",
    "print(arr*[4,4,4,4])\n",
    "try:\n",
    "    \n",
    "    print(arr + np.array([[1, 2, 3], [4, 5, 6]]))  # Shape mismatch error\n",
    "except ValueError as e:\n",
    "    print(\"Error:\", e)"
   ]
  },
  {
   "cell_type": "code",
   "execution_count": 6,
   "id": "784a7a0f-0fd0-495a-bfba-0a526c02d102",
   "metadata": {},
   "outputs": [],
   "source": [
    "# a=np.array([1,2,3,4,5])\n",
    "# b=np.array([6,7,8,9,10])\n",
    "# print(np.concatenate((a,b),axis=0)"
   ]
  },
  {
   "cell_type": "code",
   "execution_count": null,
   "id": "75513cb7-06b9-4ad7-bf43-1b0bad5624c8",
   "metadata": {},
   "outputs": [],
   "source": []
  }
 ],
 "metadata": {
  "kernelspec": {
   "display_name": "Python 3 (ipykernel)",
   "language": "python",
   "name": "python3"
  },
  "language_info": {
   "codemirror_mode": {
    "name": "ipython",
    "version": 3
   },
   "file_extension": ".py",
   "mimetype": "text/x-python",
   "name": "python",
   "nbconvert_exporter": "python",
   "pygments_lexer": "ipython3",
   "version": "3.11.0"
  }
 },
 "nbformat": 4,
 "nbformat_minor": 5
}
