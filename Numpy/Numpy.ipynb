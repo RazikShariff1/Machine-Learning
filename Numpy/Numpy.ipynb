{
 "cells": [
  {
   "cell_type": "markdown",
   "id": "3049466b-4d9f-4180-b55e-77fec18c3e87",
   "metadata": {},
   "source": [
    "<p style=\"text-align:center\">\n",
    "    <span style=\"display: inline-flex; align-items: center; gap: 10px;\">\n",
    "        <img src=\"https://www.theclickreader.com/wp-content/uploads/2021/10/NumPy-Logo.png\" width=\"60\">\n",
    "        <span style=\"font-size: 32px; font-weight: bold;\">NumPy</span>\n",
    "    </span>\n",
    "</p>\n",
    "\n",
    "<p style=\"text-align:center\">\n",
    "    <a href=\"https://chatgpt.com/share/67a873c1-3b60-800b-97fb-fbd7beb74a3e\" \n",
    "       style=\"\n",
    "       display:inline-block; \n",
    "       font-size:15px; \n",
    "       color:white;\n",
    "       text-decoration:none;\n",
    "       font-weight:bold;\n",
    "       \">$ChatGPT$</a>\n",
    "</p\n",
    "<!-- $ table \\;of\\; content $ -->\n",
    "\n",
    "| Topic  |\n",
    "|-------|\n",
    "| Simple array creation |\n",
    "| Simple use of array using matplotlib  |"
   ]
  },
  {
   "cell_type": "code",
   "execution_count": 1,
   "id": "2af71479-3a69-4013-9cc0-ec134d5c597e",
   "metadata": {},
   "outputs": [
    {
     "name": "stdout",
     "output_type": "stream",
     "text": [
      "[ 1  2 34]\n",
      "<class 'numpy.ndarray'>\n"
     ]
    }
   ],
   "source": [
    "import numpy as np\n",
    "a= np.array([1,2,34])\n",
    "print(a)\n",
    "print(type(a))"
   ]
  },
  {
   "cell_type": "code",
   "execution_count": 2,
   "id": "b0171c41-f621-410c-a4a8-f665188fd0f9",
   "metadata": {},
   "outputs": [
    {
     "data": {
      "image/png": "[encoded data removed]",
      "text/plain": [
       "<Figure size 640x480 with 1 Axes>"
      ]
     },
     "metadata": {},
     "output_type": "display_data"
    }
   ],
   "source": [
    "import matplotlib.pyplot as pl\n",
    "pl.plot(a)\n",
    "pl.show()"
   ]
  },
  {
   "cell_type": "code",
   "execution_count": 3,
   "id": "7d2147ef-0674-4197-acfe-b1d9e72d8dc5",
   "metadata": {},
   "outputs": [
    {
     "name": "stdout",
     "output_type": "stream",
     "text": [
      "1.24.0\n"
     ]
    }
   ],
   "source": [
    "import numpy as np\n",
    "print(np.__version__)"
   ]
  },
  {
   "cell_type": "markdown",
   "id": "e8087a6e-c90a-41e8-ad24-f6ee48f44275",
   "metadata": {},
   "source": [
    "### Array Creation"
   ]
  },
  {
   "cell_type": "code",
   "execution_count": 4,
   "id": "b70c723e-cffd-4466-9ab2-0adc8c87c957",
   "metadata": {},
   "outputs": [
    {
     "name": "stdout",
     "output_type": "stream",
     "text": [
      "1D Array:\n",
      " [1 2 3 4 5]\n",
      "\n",
      "2D Array:\n",
      " [[1 2 3]\n",
      " [4 5 6]]\n",
      "\n",
      "3D Array:\n",
      " [[[1 2]\n",
      "  [3 4]]\n",
      "\n",
      " [[5 6]\n",
      "  [7 8]]]\n"
     ]
    }
   ],
   "source": [
    "import numpy as np\n",
    "arr1D = np.array([1, 2, 3, 4, 5])\n",
    "print(\"1D Array:\\n\", arr1D)\n",
    "arr2D = np.array([[1, 2, 3], [4, 5, 6]])\n",
    "print(\"\\n2D Array:\\n\", arr2D)\n",
    "arr3D = np.array([[[1, 2], [3, 4]], [[5, 6], [7, 8]]])\n",
    "print(\"\\n3D Array:\\n\", arr3D)"
   ]
  },
  {
   "cell_type": "code",
   "execution_count": 5,
   "id": "104534e3-f88f-4947-acdc-d201fdefd3fb",
   "metadata": {},
   "outputs": [
    {
     "name": "stdout",
     "output_type": "stream",
     "text": [
      "1.3 μs ± 19.6 ns per loop (mean ± std. dev. of 7 runs, 1,000,000 loops each)\n"
     ]
    }
   ],
   "source": [
    "\n",
    "%timeit [j**4 for j in range(1,9)]\n",
    "# list and ndarray performance"
   ]
  },
  {
   "cell_type": "code",
   "execution_count": 6,
   "id": "c7309a01-007c-4e40-9d75-2296c2599f25",
   "metadata": {},
   "outputs": [
    {
     "name": "stdout",
     "output_type": "stream",
     "text": [
      "4.09 μs ± 80.7 ns per loop (mean ± std. dev. of 7 runs, 100,000 loops each)\n"
     ]
    }
   ],
   "source": [
    "%timeit np.arange(1,9)**4"
   ]
  },
  {
   "cell_type": "code",
   "execution_count": 7,
   "id": "1cbd1502-fcc4-4dd5-9bca-756565bc1083",
   "metadata": {},
   "outputs": [
    {
     "name": "stdout",
     "output_type": "stream",
     "text": [
      "\n",
      "Array from Tuple: [10 20 30]\n"
     ]
    }
   ],
   "source": [
    "# Creating Array from Tuple\n",
    "arr_tuple = np.array((10, 20, 30))\n",
    "print(\"\\nArray from Tuple:\", arr_tuple)\n"
   ]
  },
  {
   "cell_type": "code",
   "execution_count": 8,
   "id": "b0eacc8b-edd8-4ba5-8013-e0d750905785",
   "metadata": {},
   "outputs": [
    {
     "name": "stdout",
     "output_type": "stream",
     "text": [
      "1D Zeros Array: [0. 0. 0. 0. 0.]\n",
      "\n",
      "2D Zeros Array:\n",
      " [[0. 0. 0. 0.]\n",
      " [0. 0. 0. 0.]\n",
      " [0. 0. 0. 0.]]\n",
      "\n",
      "1D Ones Array: [1. 1. 1. 1. 1.]\n",
      "\n",
      "2D Ones Array:\n",
      " [[[1. 1. 1. 1.]\n",
      "  [1. 1. 1. 1.]\n",
      "  [1. 1. 1. 1.]]\n",
      "\n",
      " [[1. 1. 1. 1.]\n",
      "  [1. 1. 1. 1.]\n",
      "  [1. 1. 1. 1.]]]\n",
      "3\n"
     ]
    }
   ],
   "source": [
    "# 1D Array of Zeros\n",
    "zeros_arr = np.zeros(5)\n",
    "print(\"1D Zeros Array:\", zeros_arr)\n",
    "\n",
    "# 2D Array of Zeros\n",
    "zeros_2D = np.zeros((3, 4))\n",
    "print(\"\\n2D Zeros Array:\\n\", zeros_2D)\n",
    "\n",
    "# 1D Array of Ones\n",
    "ones_arr = np.ones(5)\n",
    "print(\"\\n1D Ones Array:\", ones_arr)\n",
    "\n",
    "# 2D Array of Ones\n",
    "ones_2D = np.ones((2, 3,4))\n",
    "print(\"\\n2D Ones Array:\\n\", ones_2D)\n",
    "print(ones_2D.ndim)"
   ]
  },
  {
   "cell_type": "code",
   "execution_count": 9,
   "id": "acf1e29a-bd21-4eb9-894d-783dec7211d6",
   "metadata": {},
   "outputs": [
    {
     "name": "stdout",
     "output_type": "stream",
     "text": [
      "Array from 0 to 9: [0 1 2 3 4 5 6 7 8 9]\n",
      "\n",
      "Array with Step Size 3: [ 5  8 11 14 17]\n"
     ]
    }
   ],
   "source": [
    "# Creating a 1D array from 0 to 9\n",
    "arr = np.arange(10)\n",
    "print(\"Array from 0 to 9:\", arr)\n",
    "\n",
    "# Creating an array from 5 to 20 with step size 3\n",
    "arr_step = np.arange(5, 20, 3)\n",
    "print(\"\\nArray with Step Size 3:\", arr_step)"
   ]
  },
  {
   "cell_type": "code",
   "execution_count": 10,
   "id": "d45293aa-d280-4c74-a74e-70c8d7847b8b",
   "metadata": {},
   "outputs": [
    {
     "name": "stdout",
     "output_type": "stream",
     "text": [
      "[ 0.  5. 10. 15. 20.] \n",
      "\n",
      "Linspace Array: [ 1.    3.25  5.5   7.75 10.  ]\n",
      "\n",
      "Linspace (0 to 1, 6 points): [0.  0.2 0.4 0.6 0.8 1. ]\n"
     ]
    }
   ],
   "source": [
    "a_l=np.linspace(0,20,5)\n",
    "print(a_l,\"\\n\")\n",
    "# Generate 5 numbers between 1 and 10\n",
    "arr_lin = np.linspace(1, 10, 5)\n",
    "print(\"Linspace Array:\", arr_lin)\n",
    "\n",
    "# Generate 6 numbers between 0 and 1\n",
    "arr_lin2 = np.linspace(0, 1, 6)\n",
    "print(\"\\nLinspace (0 to 1, 6 points):\", arr_lin2)"
   ]
  },
  {
   "cell_type": "code",
   "execution_count": 11,
   "id": "3c12c1e8-1d07-416b-8f3c-38b200576b5c",
   "metadata": {},
   "outputs": [
    {
     "name": "stdout",
     "output_type": "stream",
     "text": [
      "[[[[[[[[[[1 2 3 4]]]]]]]]]] 10\n"
     ]
    }
   ],
   "source": [
    "import numpy as np\n",
    "aa=np.array([1,2,3,4],ndmin=10)\n",
    "print(aa,aa.ndim)"
   ]
  },
  {
   "cell_type": "code",
   "execution_count": 12,
   "id": "46e5d77f-8afc-461c-8f21-73c8a5a8699c",
   "metadata": {},
   "outputs": [
    {
     "name": "stdout",
     "output_type": "stream",
     "text": [
      "[[1. 0. 0. 0.]\n",
      " [0. 1. 0. 0.]\n",
      " [0. 0. 1. 0.]\n",
      " [0. 0. 0. 1.]]\n",
      "\n",
      "[[1. 0. 0. 0. 0.]\n",
      " [0. 1. 0. 0. 0.]\n",
      " [0. 0. 1. 0. 0.]\n",
      " [0. 0. 0. 1. 0.]]\n"
     ]
    }
   ],
   "source": [
    "#diagonal array\n",
    "a=np.eye(4)\n",
    "print(a)\n",
    "print()\n",
    "d=np.eye(4,5)\n",
    "print(d)"
   ]
  },
  {
   "cell_type": "code",
   "execution_count": 16,
   "id": "828846dc-1858-449b-a0f3-0d0c180ab427",
   "metadata": {},
   "outputs": [
    {
     "name": "stdout",
     "output_type": "stream",
     "text": [
      "[0.50779925 0.21149366 0.16153115 0.45785868 0.93668151]\n",
      "\n",
      " [[0.1929047  0.52358051 0.72106799 0.06304934 0.14984508]\n",
      " [0.5522116  0.59358546 0.24647337 0.33169538 0.55001727]\n",
      " [0.05267068 0.22462455 0.83300954 0.87222399 0.09477621]\n",
      " [0.83435269 0.40934751 0.84243837 0.92574832 0.60486353]\n",
      " [0.67569582 0.39908207 0.73805131 0.36711582 0.98463884]]\n",
      "[-0.55525638  0.67435871 -0.32330369 -0.19387919] \n",
      "\n",
      "[0.52573845 0.13664348 0.01279099 0.23749515 0.66351652] \n",
      "\n"
     ]
    }
   ],
   "source": [
    "#other methods of creating an array\n",
    "            \n",
    "                    # random.rand()\n",
    "random_ar=np.random.rand(5)\n",
    "print(random_ar)\n",
    "\n",
    "random_ar2d=np.random.rand(5,5)\n",
    "print('\\n',random_ar2d)\n",
    "\n",
    "                    # randn(-ve values included)\n",
    "randn_a =np.random.randn(4)\n",
    "print(randn_a,'\\n')\n",
    "\n",
    "                    # ranf( [0.0,1.0) range)\n",
    "randf_a=np.random.ranf(5)\n",
    "print(randf_a,'\\n')\n",
    "\n",
    "                    # randint(min,max,total)\n",
    "randint_a=np.random.randint(5,20,5)"
   ]
  },
  {
   "cell_type": "code",
   "execution_count": 17,
   "id": "91047355-017a-4614-aca6-e25ef142dad7",
   "metadata": {},
   "outputs": [
    {
     "name": "stdout",
     "output_type": "stream",
     "text": [
      "1D Array Shape: (5,)\n",
      "2D Array Shape: (2, 3)\n",
      "3D Array Shape: (2, 2, 2)\n",
      "Size of arr1D: 5\n",
      "Size of arr2D: 6\n",
      "Size of arr3D: 8\n",
      "Integer Array Data Type: int32\n",
      "Float Array Data Type: float64\n",
      "Boolean Array Data Type: bool\n"
     ]
    }
   ],
   "source": [
    "import numpy as np\n",
    "\n",
    "# 1D Array\n",
    "arr1D = np.array([1, 2, 3, 4, 5])\n",
    "print(\"1D Array Shape:\", arr1D.shape)  # (5,)\n",
    "\n",
    "# 2D Array (Matrix)\n",
    "arr2D = np.array([[1, 2, 3], [4, 5, 6]])\n",
    "print(\"2D Array Shape:\", arr2D.shape)  # (2, 3)\n",
    "\n",
    "# 3D Array (Tensor)\n",
    "arr3D = np.array([[[1, 2], [3, 4]], [[5, 6], [7, 8]]])\n",
    "print(\"3D Array Shape:\", arr3D.shape)  # (2, 2, 2)\n",
    "\n",
    "print(\"Size of arr1D:\", arr1D.size)  # 5\n",
    "print(\"Size of arr2D:\", arr2D.size)  # 6 (2x3)\n",
    "print(\"Size of arr3D:\", arr3D.size)  # 8 (2x2x2)\n",
    "\n",
    "arr_int = np.array([1, 2, 3])\n",
    "arr_float = np.array([1.1, 2.2, 3.3])\n",
    "arr_bool = np.array([True, False, True])\n",
    "\n",
    "print(\"Integer Array Data Type:\", arr_int.dtype)  # int32 or int64\n",
    "print(\"Float Array Data Type:\", arr_float.dtype)  # float64\n",
    "print(\"Boolean Array Data Type:\", arr_bool.dtype)  # bool\n"
   ]
  },
  {
   "cell_type": "code",
   "execution_count": 18,
   "id": "ed1d2662-4dda-4d56-87b8-9905a254d6a4",
   "metadata": {},
   "outputs": [
    {
     "name": "stdout",
     "output_type": "stream",
     "text": [
      "\n",
      "Auto-reshaped Array:\n",
      " [[1 2]\n",
      " [3 4]\n",
      " [5 6]]\n",
      "Original Array:\n",
      " [1 2 3 4 5 6]\n",
      "\n",
      "Reshaped Array (2x3):\n",
      " [[1 2 3]\n",
      " [4 5 6]]\n"
     ]
    }
   ],
   "source": [
    "arr = np.array([1, 2, 3, 4, 5, 6])\n",
    "reshaped_auto = arr.reshape(-1, 2)  # NumPy auto-fills the rows\n",
    "print(\"\\nAuto-reshaped Array:\\n\", reshaped_auto)\n",
    "\n",
    "\n",
    "arr = np.array([1, 2, 3, 4, 5, 6])\n",
    "reshaped_arr = arr.reshape(2, 3)  # Reshape into 2 rows, 3 columns\n",
    "\n",
    "print(\"Original Array:\\n\", arr)\n",
    "print(\"\\nReshaped Array (2x3):\\n\", reshaped_arr)\n"
   ]
  },
  {
   "cell_type": "code",
   "execution_count": 19,
   "id": "f777851d-0b20-4f8c-a59a-379b86a39774",
   "metadata": {},
   "outputs": [
    {
     "name": "stdout",
     "output_type": "stream",
     "text": [
      "Original 2D Array:\n",
      " [[1 2 3]\n",
      " [4 5 6]]\n",
      "\n",
      "Raveled 1D Array:\n",
      " [1 2 3 4 5 6]\n",
      "\n",
      "Flattened 1D Array:\n",
      " [1 2 3 4 5 6]\n"
     ]
    }
   ],
   "source": [
    "arr2D = np.array([[1, 2, 3], [4, 5, 6]])\n",
    "raveled_arr = arr2D.ravel()\n",
    "print(\"Original 2D Array:\\n\", arr2D)\n",
    "print(\"\\nRaveled 1D Array:\\n\", raveled_arr)\n",
    "\n",
    "flattened_arr = arr2D.flatten()\n",
    "print(\"\\nFlattened 1D Array:\\n\", flattened_arr)"
   ]
  },
  {
   "cell_type": "code",
   "execution_count": null,
   "id": "d6952b4d-5279-435e-938a-70be6b442040",
   "metadata": {},
   "outputs": [],
   "source": []
  }
 ],
 "metadata": {
  "kernelspec": {
   "display_name": "Python 3 (ipykernel)",
   "language": "python",
   "name": "python3"
  },
  "language_info": {
   "codemirror_mode": {
    "name": "ipython",
    "version": 3
   },
   "file_extension": ".py",
   "mimetype": "text/x-python",
   "name": "python",
   "nbconvert_exporter": "python",
   "pygments_lexer": "ipython3",
   "version": "3.11.0"
  }
 },
 "nbformat": 4,
 "nbformat_minor": 5
}
