{
 "cells": [
  {
   "cell_type": "code",
   "execution_count": 10,
   "id": "0a976e89-ea89-48f6-99fa-38ab52948168",
   "metadata": {},
   "outputs": [
    {
     "name": "stdout",
     "output_type": "stream",
     "text": [
      "select avg(age) as 'avg_age'\n",
      "from student;\n",
      "\n",
      "select sum(fee_outstanding) as 'fee_outstanding'  \n",
      "from student\n",
      "where department = 'arts';\n"
     ]
    }
   ],
   "source": [
    "str=\"\"\"select AVG(Age) as 'avg_age'\n",
    "FROM student;\n",
    "\n",
    "select SUM(Fee_outstanding) as 'fee_outstanding'  \n",
    "FROM student\n",
    "where Department = 'Arts';\"\"\"\n",
    "print(str.lower())"
   ]
  },
  {
   "cell_type": "code",
   "execution_count": null,
   "id": "c5940fd6-e81e-4b4a-b90f-29ca147b5c26",
   "metadata": {},
   "outputs": [],
   "source": []
  }
 ],
 "metadata": {
  "kernelspec": {
   "display_name": "Python 3 (ipykernel)",
   "language": "python",
   "name": "python3"
  },
  "language_info": {
   "codemirror_mode": {
    "name": "ipython",
    "version": 3
   },
   "file_extension": ".py",
   "mimetype": "text/x-python",
   "name": "python",
   "nbconvert_exporter": "python",
   "pygments_lexer": "ipython3",
   "version": "3.11.0"
  }
 },
 "nbformat": 4,
 "nbformat_minor": 5
}
